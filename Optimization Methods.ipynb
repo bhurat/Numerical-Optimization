{
 "cells": [
  {
   "cell_type": "markdown",
   "metadata": {},
   "source": [
    "# Optimization Methods\n",
    "\n",
    "## 1. How We Structure Optimization\n",
    "Optimization methods by in large have two main structures. The first, line search, is simple enough. Pick a direction, pick a size, and take a step within that size. Within this method, there are three techniques I've studied: Steepest descent, Newton descent, and BFGS method. The other approach to optimization is the trust region method. Here, you designate a region of trust and minimize the subproblem. If the subproblem minimzation would result in unfavorable results (uphill or insufficiently downhill), you shrink the trust region and try again. On the other hand, if the minimization is sufficient improvement, you  take the step and increase the region. \n",
    "\n",
    "Optimization problems have ideal problems, and each deviation from them leads to increasingly difficult problems. It is worth laying out these ideal problems and working with them, as they are important to consider when working with non-ideal problems. \n",
    "An ideal problem is convex, continuous, unconstrained, deterministic, small, and about local optimization. Flipping these, the hardest problems are non-convex, discrete, constrained, stochastic, very large, or about global optimization.  \n",
    "\n",
    "With both approaches and obstacles outlined, we will start with the three line search techniques mentioned."
   ]
  },
  {
   "cell_type": "markdown",
   "metadata": {},
   "source": [
    "## 2. Line Search\n",
    "The basic structure of line search methods is given below: "
   ]
  },
  {
   "cell_type": "code",
   "execution_count": 5,
   "metadata": {},
   "outputs": [],
   "source": [
    "# Given function g and starting point x0,\n",
    "# calculate gradient g'\n",
    "# xk = x0\n",
    "# while |g'| \\neq 0\n",
    "#    pk =  get step direction at xk\n",
    "#    a = step size at xk\n",
    "#    xk+1 = xk + a*pk\n",
    "#return xk"
   ]
  },
  {
   "cell_type": "markdown",
   "metadata": {},
   "source": [
    "With this, we must consider both step direction and step size. For step direction, we begin with the easiest method we know of.\n",
    "### 2.1 Steepest Descent\n",
    "The steepest descent method is the workhorse of the optimization method. Its idea is to find the direction of steepest descent by examining the gradient at the current point and then stepping that direction. Because it only requires the gradient, it is a simple technique usable for most problems. Furthermore, this allows it to easily work on discrete problems. This is why steepest descent is a starting point for many data science, machine learning, and image processing problems. \n",
    "\n",
    "With the simplicity of the problem, it is the perfect place to introduce the main two methods we have for stepsize. They are based on the wolfe conditions, known separately as the armijo curvature conditions. The armijo condition can be satisfied using a simple backtracking method, seen below (along with some package imports for later down the line):"
   ]
  },
  {
   "cell_type": "code",
   "execution_count": 6,
   "metadata": {},
   "outputs": [],
   "source": [
    "import numpy as np\n",
    "import matplotlib\n",
    "import matplotlib.pyplot as plt\n",
    "def backtrack(pk, rho):\n",
    "    alph = 1\n",
    "    while (g(x0+alph*pk) > g(x0) + c1*alph*pk.dot(gr)): #backtracking Algo\n",
    "        alph *= rho\n",
    "    return alph"
   ]
  },
  {
   "cell_type": "markdown",
   "metadata": {},
   "source": [
    "While this is simple, it is not particularly effective. However, if we want to implement the second wolfe condition, we must complexify our algorithm quite a bit. Below is the result of that:"
   ]
  },
  {
   "cell_type": "code",
   "execution_count": 41,
   "metadata": {},
   "outputs": [],
   "source": [
    "def strongWolfe(alph1):     #COMMENTATE THIS FUNCTION BRO\n",
    "    alph = 0\n",
    "    alphmax = 5.\n",
    "    phi_a0 = g(x0+alph*pk)\n",
    "    i = 1\n",
    "    \n",
    "    while(True):\n",
    "        phi_a1 = g(x0+alph1*pk)\n",
    "        \n",
    "        #IS ARMIJO CONDITION NOT SATISFIED????\n",
    "        if ((phi_a1 > phi_0 + c1*alph1*phiP_0) or (phi_a1 >= phi_a0 and i > 1)): \n",
    "            alphfinal = zoom(alph,alph1, phi_a0,phi_a1)\n",
    "            return alphfinal\n",
    "        #IF IT IS, IS CURVATURE CONDITION SATISFIED?\n",
    "        phiP_a1 = gradg(x0+alph1*pk).dot(pk)\n",
    "        if(abs(phiP_a1) <= -c2*phiP_0):    \n",
    "            alphfinal = alph1\n",
    "            return alphfinal\n",
    "        \n",
    "        #IS OUR STEP TAKING US UPHILL?\n",
    "        if (phiP_a1 >= 0):\n",
    "            alphfinal = zoom(alph1,alph,phi_a1,phi_a0)\n",
    "            return alphfinal\n",
    "\n",
    "        #GO TO NEXT STEP\n",
    "        alph = alph1\n",
    "        phi_a0 = phi_a1\n",
    "        alph1 = 1.5*alph1         #If alphmax < than step that satisfies these, does this break?\n",
    "        alph1 = min(alph1,alphmax)  \n",
    "        i +=1\n",
    "        \n",
    "def zoom(alow,ahigh, phi_alow, phi_ahigh):\n",
    "    if phi_alow > phi_ahigh:\n",
    "        temp = ahigh\n",
    "        ahigh = alow\n",
    "        alow = temp\n",
    "    \n",
    "    \n",
    "    while(True):\n",
    "        aj = interpolateHermite(alow,ahigh,phi_alow,phi_ahigh)\n",
    "\n",
    "        #COMPUTE PHI AT INTERPOLATED VALUE AND AT LOWEST VALUE\n",
    "        phi_aj = g(x0+aj*pk)\n",
    "        \n",
    "        #CHECK TO SEE IF WE DONT SATISFY ARMIJO. IF NOT, KEEP GOING\n",
    "        if((phi_aj > phi_0 + c1*aj*phiP_0) or (phi_aj >= phi_alow)): #Armijo\n",
    "            ahigh = aj\n",
    "            phi_ahigh = phi_aj\n",
    "        else:\n",
    "            #IF WE DO, CALC PHI' AND CHECK CURVATURE. IF SATISFIED, RETURN STEP\n",
    "            phiP_aj = gradg(x0+aj*pk).dot(pk)\n",
    "            if(abs(phiP_aj) <= -c2*phiP_0):     \n",
    "                afinal = aj\n",
    "                return afinal\n",
    "            if (phiP_aj*(ahigh - alow) >= 0):   #Uunderstand this step?!!\n",
    "                ahigh = alow\n",
    "                phi_ahigh = phi_alow\n",
    "            alow = aj\n",
    "            phi_alow = phi_aj\n",
    "            \n",
    "def interpolateHermite(alow, ahigh, phi_alow,phi_ahigh):\n",
    "    #RECALCULATE PHI OF THESE \n",
    "                                    ##CONSIDER TAKING VALUES FROM EARLIER\n",
    "    phi_alow = g(x0+alow*pk)\n",
    "    phiP_alow =  gradg(x0+alow*pk).dot(pk)\n",
    "    \n",
    "    phiP_ahigh = gradg(x0+ahigh*pk).dot(pk)\n",
    "    \n",
    "    #CONSTRUCT MINIMUM FROM H'(A) = 0\n",
    "    \n",
    "    d1 = phiP_alow + phiP_ahigh-3.*(phi_alow-phi_ahigh)/(alow-ahigh)\n",
    "    sgn = (ahigh - alow >= 0) - 1*(ahigh - alow < 0)\n",
    "    d2 = sgn*np.sqrt(d1**2-phiP_alow*phiP_ahigh)\n",
    "    \n",
    "    amid = ahigh - (ahigh - alow)*(phiP_ahigh + d2-d1)/(phiP_ahigh - phiP_alow + 2*d2)\n",
    "    return amid\n",
    "\n"
   ]
  },
  {
   "cell_type": "markdown",
   "metadata": {},
   "source": [
    "The second method seems like a lot of added complexity. Thus, it better be worth the work! Luckily, we will see later that it greatly increases performance on all of our methods. Before that, however, we should introduce steepest descent. Steepest descent is simply about going the negative gradient direction. Thus, it is simply this:"
   ]
  },
  {
   "cell_type": "code",
   "execution_count": 42,
   "metadata": {},
   "outputs": [],
   "source": [
    "def steepest(gradg):\n",
    "    return -gradg"
   ]
  },
  {
   "cell_type": "markdown",
   "metadata": {},
   "source": [
    "With our simple yet efficient method for step direction and our two methods for step size, we can dive straight into our first linesearch method. The full algorithm is below. You can see that we attempt to minimize the 2-D rosenbrock function (or banana function!), a classic case. "
   ]
  },
  {
   "cell_type": "code",
   "execution_count": 43,
   "metadata": {},
   "outputs": [],
   "source": [
    "def g(x):\n",
    "        return 100.*(x[1]-x[0]**2)**2 + (1.-x[0])**2\n",
    "def gradg(x):\n",
    "    return np.array([ -400*x[0]*x[1] + 400*x[0]**3 - 2 + 2*x[0], 200*x[1]- 200*x[0]**2])"
   ]
  },
  {
   "cell_type": "code",
   "execution_count": 44,
   "metadata": {},
   "outputs": [
    {
     "name": "stdout",
     "output_type": "stream",
     "text": [
      "19435\n",
      "x* = [0.99999999 0.99999998]\n",
      "f(x*) = 6.106583285154426e-17\n",
      "gradf(x*) = [-9.51783230e-09 -3.05405479e-09]\n"
     ]
    }
   ],
   "source": [
    "xstart = np.array([-1.2,1.])\n",
    "x0 = xstart\n",
    "\n",
    "counter = 0 #Iteration count\n",
    "rho = .5    #values for backgracking algorithm\n",
    "c1 = 10**-4\n",
    "    \n",
    "xgraph = []\n",
    "ygraph = []\n",
    "while (np.linalg.norm(gradg(x0)) > 10**-8):\n",
    "    counter+=1  #increase iteration count\n",
    "    gr = gradg(x0)      #calc gradient and hessian\n",
    "    pk = steepest(gr) #calc step direction\n",
    "    alph = backtrack(pk,.5)\n",
    "    xnew = x0 + alph*pk #take step\n",
    "    x0 = xnew\n",
    "    #Append information for graphs\n",
    "    xgraph.append(x0[0])\n",
    "    ygraph.append(x0[1])\n",
    "print(counter)\n",
    "\n",
    "print(f'x* = {x0}')\n",
    "\n",
    "print(f'f(x*) = {g(x0)}')\n",
    "\n",
    "print(f'gradf(x*) = {gradg(x0)}')"
   ]
  },
  {
   "cell_type": "markdown",
   "metadata": {},
   "source": [
    "We see that it converges in 19435 iterations, which is slow. Graphing it, we see the path taken by our algorithm. "
   ]
  },
  {
   "cell_type": "code",
   "execution_count": 45,
   "metadata": {},
   "outputs": [
    {
     "data": {
      "image/png": "[encoded data removed]",
      "text/plain": [
       "<Figure size 432x288 with 1 Axes>"
      ]
     },
     "metadata": {
      "needs_background": "light"
     },
     "output_type": "display_data"
    }
   ],
   "source": [
    "#Graph Contour plot\n",
    "\n",
    "fig, ax = plt.subplots()\n",
    "\n",
    "xplot = np.arange(-1.5,1.5,.01)\n",
    "yplot = np.arange(-1.5,1.5,.01)\n",
    "\n",
    "zplot = np.ones((xplot.size,yplot.size))\n",
    "for i in range(0,xplot.size):\n",
    "    for j in range(0,yplot.size):\n",
    "        xyplot = [xplot[i],yplot[j]]\n",
    "        zplot[i,j] = g(xyplot)\n",
    "\n",
    "Contours = np.linspace(zplot.min(),zplot.max(),30)\n",
    "plt.contourf(xplot, yplot, zplot,Contours)\n",
    "\n",
    "plt.plot(xgraph,ygraph, 'w')\n",
    "plt.plot(xgraph,ygraph,'wo', markersize = 2, label = \"Convergence Path\")\n",
    "plt.plot(x0[0],x0[1],'C1x',markersize = 8, label = \"Final Convergence\")\n",
    "ax.set_title(f'Contour Plot Displaying Convergence of Newton Descent from x0 = {xstart}')\n",
    "ax.legend(loc = 4)\n",
    "ax.grid()\n",
    "plt.show()"
   ]
  },
  {
   "cell_type": "markdown",
   "metadata": {},
   "source": [
    "Clearly, most of those steps are very small! Implementing both Wolfe conditions instead of just the armijo condition, however leads to better results. The code changes slightly but is presented below. "
   ]
  },
  {
   "cell_type": "code",
   "execution_count": 48,
   "metadata": {},
   "outputs": [
    {
     "name": "stdout",
     "output_type": "stream",
     "text": [
      "2269\n",
      "x* = [0.99999999 0.99999998]\n",
      "f(x*) = 1.1821358788228815e-16\n",
      "gradf(x*) = [-2.94192648e-09 -9.39147071e-09]\n"
     ]
    }
   ],
   "source": [
    "x0 = xstart\n",
    "\n",
    "counter = 0 #Iteration count\n",
    "alph1 = 1\n",
    "c1 = 10**-4\n",
    "c2 = .1\n",
    "xgraph = []\n",
    "ygraph = []\n",
    "while (np.linalg.norm(gradg(x0)) > 10**-8):\n",
    "    counter+=1  #increase iteration count\n",
    "    gr = gradg(x0)      #calc gradient and hessian\n",
    "    pk = steepest(gr) #calc step direction\n",
    "    phi_0 = g(x0)\n",
    "    phiP_0 = gradg(x0).dot(pk)\n",
    "    alph = strongWolfe(alph1)\n",
    "    alph1 = min(1,1.1*alph)\n",
    "    xnew = x0 + alph*pk #take step\n",
    "    x0 = xnew\n",
    "    #Append information for graphs\n",
    "    xgraph.append(x0[0])\n",
    "    ygraph.append(x0[1])\n",
    "print(counter)\n",
    "\n",
    "print(f'x* = {x0}')\n",
    "\n",
    "print(f'f(x*) = {g(x0)}')\n",
    "\n",
    "print(f'gradf(x*) = {gradg(x0)}')\n",
    "\n",
    "#Graph Contour plot"
   ]
  },
  {
   "cell_type": "markdown",
   "metadata": {},
   "source": []
  },
  {
   "cell_type": "code",
   "execution_count": 49,
   "metadata": {},
   "outputs": [
    {
     "data": {
      "image/png": "[encoded data removed]",
      "text/plain": [
       "<Figure size 432x288 with 1 Axes>"
      ]
     },
     "metadata": {
      "needs_background": "light"
     },
     "output_type": "display_data"
    }
   ],
   "source": [
    "#Graph Contour plot\n",
    "\n",
    "fig, ax = plt.subplots()\n",
    "\n",
    "xplot = np.arange(-1.5,1.5,.01)\n",
    "yplot = np.arange(-1.5,1.5,.01)\n",
    "\n",
    "zplot = np.ones((xplot.size,yplot.size))\n",
    "for i in range(0,xplot.size):\n",
    "    for j in range(0,yplot.size):\n",
    "        xyplot = [xplot[i],yplot[j]]\n",
    "        zplot[i,j] = g(xyplot)\n",
    "\n",
    "Contours = np.linspace(zplot.min(),zplot.max(),30)\n",
    "plt.contourf(xplot, yplot, zplot,Contours)\n",
    "\n",
    "plt.plot(xgraph,ygraph, 'w')\n",
    "plt.plot(xgraph,ygraph,'wo', markersize = 2, label = \"Convergence Path\")\n",
    "plt.plot(x0[0],x0[1],'C1x',markersize = 8, label = \"Final Convergence\")\n",
    "ax.set_title(f'Contour Plot Displaying Convergence of Newton Descent from x0 = {xstart}')\n",
    "ax.legend(loc = 4)\n",
    "ax.grid()\n",
    "plt.show()"
   ]
  },
  {
   "cell_type": "markdown",
   "metadata": {},
   "source": [
    "### 2.2 Newton Descent \n"
   ]
  }
 ],
 "metadata": {
  "kernelspec": {
   "display_name": "Python 3",
   "language": "python",
   "name": "python3"
  },
  "language_info": {
   "codemirror_mode": {
    "name": "ipython",
    "version": 3
   },
   "file_extension": ".py",
   "mimetype": "text/x-python",
   "name": "python",
   "nbconvert_exporter": "python",
   "pygments_lexer": "ipython3",
   "version": "3.6.8"
  }
 },
 "nbformat": 4,
 "nbformat_minor": 2
}
